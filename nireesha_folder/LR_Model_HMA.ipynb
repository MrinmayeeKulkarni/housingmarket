{
 "cells": [
  {
   "cell_type": "code",
   "execution_count": 1,
   "metadata": {},
   "outputs": [],
   "source": [
    "# Dependencies\n",
    "%matplotlib inline\n",
    "\n",
    "import pandas as pd\n",
    "import matplotlib\n",
    "import numpy as np\n",
    "import matplotlib.pyplot as plt\n",
    "\n",
    "from sklearn import linear_model\n",
    "from sklearn.metrics import mean_squared_error, r2_score\n",
    "from sklearn.metrics import accuracy_score\n",
    "from sklearn.preprocessing import StandardScaler\n",
    "\n",
    "import seaborn as sns\n",
    "from math import sqrt"
   ]
  },
  {
   "cell_type": "code",
   "execution_count": 2,
   "metadata": {},
   "outputs": [
    {
     "data": {
      "text/plain": [
       "County    1188\n",
       "State     1188\n",
       "Year      1188\n",
       "Price     1143\n",
       "dtype: int64"
      ]
     },
     "execution_count": 2,
     "metadata": {},
     "output_type": "execute_result"
    }
   ],
   "source": [
    "# Read Housing Price Training Data\n",
    "training_df = pd.read_csv(\"MLResources/realestate_all_train.csv\")\n",
    "training_df.head()\n",
    "training_df.count()"
   ]
  },
  {
   "cell_type": "code",
   "execution_count": 3,
   "metadata": {},
   "outputs": [
    {
     "data": {
      "image/png": "[encoded data removed]",
      "text/plain": [
       "<Figure size 432x288 with 1 Axes>"
      ]
     },
     "metadata": {
      "needs_background": "light"
     },
     "output_type": "display_data"
    }
   ],
   "source": [
    "# Plot Training Data - YoY Price of All Counties \n",
    "plt.plot(training_df['Year'], training_df['Price'],'o')\n",
    "plt.title('YoY Housing Price (Per SQFT Per County) - Training set (Unprocessed)')\n",
    "plt.xlabel('Year')\n",
    "plt.ylabel('Salary')\n",
    "plt.show()"
   ]
  },
  {
   "cell_type": "code",
   "execution_count": 4,
   "metadata": {},
   "outputs": [],
   "source": [
    "# plt.hist(training_df['Price'], 2000)\n",
    "# plt.show()"
   ]
  },
  {
   "cell_type": "code",
   "execution_count": 5,
   "metadata": {},
   "outputs": [
    {
     "data": {
      "text/html": [
       "<div>\n",
       "<style scoped>\n",
       "    .dataframe tbody tr th:only-of-type {\n",
       "        vertical-align: middle;\n",
       "    }\n",
       "\n",
       "    .dataframe tbody tr th {\n",
       "        vertical-align: top;\n",
       "    }\n",
       "\n",
       "    .dataframe thead th {\n",
       "        text-align: right;\n",
       "    }\n",
       "</style>\n",
       "<table border=\"1\" class=\"dataframe\">\n",
       "  <thead>\n",
       "    <tr style=\"text-align: right;\">\n",
       "      <th></th>\n",
       "      <th>County</th>\n",
       "      <th>State</th>\n",
       "      <th>Year</th>\n",
       "      <th>Price</th>\n",
       "    </tr>\n",
       "  </thead>\n",
       "  <tbody>\n",
       "  </tbody>\n",
       "</table>\n",
       "</div>"
      ],
      "text/plain": [
       "Empty DataFrame\n",
       "Columns: [County, State, Year, Price]\n",
       "Index: []"
      ]
     },
     "execution_count": 5,
     "metadata": {},
     "output_type": "execute_result"
    }
   ],
   "source": [
    "# Handle missing data\n",
    "missing_df = training_df.loc[training_df['Year'].isin(['2003','2004'])]\n",
    "missing_df.head()  "
   ]
  },
  {
   "cell_type": "code",
   "execution_count": 6,
   "metadata": {},
   "outputs": [
    {
     "data": {
      "text/plain": [
       "County    128\n",
       "State     128\n",
       "Year      128\n",
       "Price     128\n",
       "dtype: int64"
      ]
     },
     "execution_count": 6,
     "metadata": {},
     "output_type": "execute_result"
    }
   ],
   "source": [
    "# Backfill missing data for 2003 and 2004 from 2002 and 2005 \n",
    "backfill_2002_df = training_df.loc[training_df['Year'].isin(['2002'])]\n",
    "backfill_2005_df = training_df.loc[training_df['Year'].isin(['2005'])]\n",
    "backfill_2002_df = backfill_2002_df.dropna()\n",
    "backfill_2005_df = backfill_2005_df.dropna()\n",
    "backfill_2002_df.count()\n",
    "backfill_2005_df.count()"
   ]
  },
  {
   "cell_type": "code",
   "execution_count": 7,
   "metadata": {},
   "outputs": [
    {
     "data": {
      "text/html": [
       "<div>\n",
       "<style scoped>\n",
       "    .dataframe tbody tr th:only-of-type {\n",
       "        vertical-align: middle;\n",
       "    }\n",
       "\n",
       "    .dataframe tbody tr th {\n",
       "        vertical-align: top;\n",
       "    }\n",
       "\n",
       "    .dataframe thead th {\n",
       "        text-align: right;\n",
       "    }\n",
       "</style>\n",
       "<table border=\"1\" class=\"dataframe\">\n",
       "  <thead>\n",
       "    <tr style=\"text-align: right;\">\n",
       "      <th></th>\n",
       "      <th>County</th>\n",
       "      <th>State</th>\n",
       "      <th>Year_x</th>\n",
       "      <th>Price_x</th>\n",
       "      <th>Year_y</th>\n",
       "      <th>Price_y</th>\n",
       "    </tr>\n",
       "  </thead>\n",
       "  <tbody>\n",
       "    <tr>\n",
       "      <th>0</th>\n",
       "      <td>King County</td>\n",
       "      <td>WA</td>\n",
       "      <td>2002</td>\n",
       "      <td>154.750000</td>\n",
       "      <td>2005</td>\n",
       "      <td>202.750000</td>\n",
       "    </tr>\n",
       "    <tr>\n",
       "      <th>1</th>\n",
       "      <td>Fairfax County</td>\n",
       "      <td>VA</td>\n",
       "      <td>2002</td>\n",
       "      <td>178.583333</td>\n",
       "      <td>2005</td>\n",
       "      <td>302.750000</td>\n",
       "    </tr>\n",
       "    <tr>\n",
       "      <th>2</th>\n",
       "      <td>Montgomery County</td>\n",
       "      <td>MD</td>\n",
       "      <td>2002</td>\n",
       "      <td>170.083333</td>\n",
       "      <td>2005</td>\n",
       "      <td>282.000000</td>\n",
       "    </tr>\n",
       "    <tr>\n",
       "      <th>3</th>\n",
       "      <td>Prince Georges County</td>\n",
       "      <td>MD</td>\n",
       "      <td>2002</td>\n",
       "      <td>108.583333</td>\n",
       "      <td>2005</td>\n",
       "      <td>194.166667</td>\n",
       "    </tr>\n",
       "    <tr>\n",
       "      <th>4</th>\n",
       "      <td>Baltimore County</td>\n",
       "      <td>MD</td>\n",
       "      <td>2002</td>\n",
       "      <td>99.250000</td>\n",
       "      <td>2005</td>\n",
       "      <td>163.666667</td>\n",
       "    </tr>\n",
       "  </tbody>\n",
       "</table>\n",
       "</div>"
      ],
      "text/plain": [
       "                  County State  Year_x     Price_x  Year_y     Price_y\n",
       "0            King County    WA    2002  154.750000    2005  202.750000\n",
       "1         Fairfax County    VA    2002  178.583333    2005  302.750000\n",
       "2      Montgomery County    MD    2002  170.083333    2005  282.000000\n",
       "3  Prince Georges County    MD    2002  108.583333    2005  194.166667\n",
       "4       Baltimore County    MD    2002   99.250000    2005  163.666667"
      ]
     },
     "execution_count": 7,
     "metadata": {},
     "output_type": "execute_result"
    }
   ],
   "source": [
    "backfill_df = backfill_2002_df.merge(backfill_2005_df, on=['County','State'], how='inner')\n",
    "backfill_df.head()\n",
    "# backfill_df.count()"
   ]
  },
  {
   "cell_type": "code",
   "execution_count": 8,
   "metadata": {},
   "outputs": [
    {
     "data": {
      "text/html": [
       "<div>\n",
       "<style scoped>\n",
       "    .dataframe tbody tr th:only-of-type {\n",
       "        vertical-align: middle;\n",
       "    }\n",
       "\n",
       "    .dataframe tbody tr th {\n",
       "        vertical-align: top;\n",
       "    }\n",
       "\n",
       "    .dataframe thead th {\n",
       "        text-align: right;\n",
       "    }\n",
       "</style>\n",
       "<table border=\"1\" class=\"dataframe\">\n",
       "  <thead>\n",
       "    <tr style=\"text-align: right;\">\n",
       "      <th></th>\n",
       "      <th>County</th>\n",
       "      <th>State</th>\n",
       "      <th>Year_x</th>\n",
       "      <th>Price_x</th>\n",
       "      <th>Year_y</th>\n",
       "      <th>Price_y</th>\n",
       "      <th>Diff_Price</th>\n",
       "    </tr>\n",
       "  </thead>\n",
       "  <tbody>\n",
       "    <tr>\n",
       "      <th>0</th>\n",
       "      <td>King County</td>\n",
       "      <td>WA</td>\n",
       "      <td>2002</td>\n",
       "      <td>154.750000</td>\n",
       "      <td>2005</td>\n",
       "      <td>202.750000</td>\n",
       "      <td>48.000000</td>\n",
       "    </tr>\n",
       "    <tr>\n",
       "      <th>1</th>\n",
       "      <td>Fairfax County</td>\n",
       "      <td>VA</td>\n",
       "      <td>2002</td>\n",
       "      <td>178.583333</td>\n",
       "      <td>2005</td>\n",
       "      <td>302.750000</td>\n",
       "      <td>124.166667</td>\n",
       "    </tr>\n",
       "    <tr>\n",
       "      <th>2</th>\n",
       "      <td>Montgomery County</td>\n",
       "      <td>MD</td>\n",
       "      <td>2002</td>\n",
       "      <td>170.083333</td>\n",
       "      <td>2005</td>\n",
       "      <td>282.000000</td>\n",
       "      <td>111.916667</td>\n",
       "    </tr>\n",
       "    <tr>\n",
       "      <th>3</th>\n",
       "      <td>Prince Georges County</td>\n",
       "      <td>MD</td>\n",
       "      <td>2002</td>\n",
       "      <td>108.583333</td>\n",
       "      <td>2005</td>\n",
       "      <td>194.166667</td>\n",
       "      <td>85.583333</td>\n",
       "    </tr>\n",
       "    <tr>\n",
       "      <th>4</th>\n",
       "      <td>Baltimore County</td>\n",
       "      <td>MD</td>\n",
       "      <td>2002</td>\n",
       "      <td>99.250000</td>\n",
       "      <td>2005</td>\n",
       "      <td>163.666667</td>\n",
       "      <td>64.416667</td>\n",
       "    </tr>\n",
       "  </tbody>\n",
       "</table>\n",
       "</div>"
      ],
      "text/plain": [
       "                  County State  Year_x     Price_x  Year_y     Price_y  \\\n",
       "0            King County    WA    2002  154.750000    2005  202.750000   \n",
       "1         Fairfax County    VA    2002  178.583333    2005  302.750000   \n",
       "2      Montgomery County    MD    2002  170.083333    2005  282.000000   \n",
       "3  Prince Georges County    MD    2002  108.583333    2005  194.166667   \n",
       "4       Baltimore County    MD    2002   99.250000    2005  163.666667   \n",
       "\n",
       "   Diff_Price  \n",
       "0   48.000000  \n",
       "1  124.166667  \n",
       "2  111.916667  \n",
       "3   85.583333  \n",
       "4   64.416667  "
      ]
     },
     "execution_count": 8,
     "metadata": {},
     "output_type": "execute_result"
    }
   ],
   "source": [
    "backfill_df['Diff_Price'] = backfill_df['Price_y'] - backfill_df['Price_x']\n",
    "backfill_df.head()"
   ]
  },
  {
   "cell_type": "code",
   "execution_count": 9,
   "metadata": {},
   "outputs": [
    {
     "data": {
      "text/html": [
       "<div>\n",
       "<style scoped>\n",
       "    .dataframe tbody tr th:only-of-type {\n",
       "        vertical-align: middle;\n",
       "    }\n",
       "\n",
       "    .dataframe tbody tr th {\n",
       "        vertical-align: top;\n",
       "    }\n",
       "\n",
       "    .dataframe thead th {\n",
       "        text-align: right;\n",
       "    }\n",
       "</style>\n",
       "<table border=\"1\" class=\"dataframe\">\n",
       "  <thead>\n",
       "    <tr style=\"text-align: right;\">\n",
       "      <th></th>\n",
       "      <th>County</th>\n",
       "      <th>State</th>\n",
       "      <th>Year_x</th>\n",
       "      <th>Price_x</th>\n",
       "      <th>Year_y</th>\n",
       "      <th>Price_y</th>\n",
       "      <th>Diff_Price</th>\n",
       "      <th>2003_Price</th>\n",
       "    </tr>\n",
       "  </thead>\n",
       "  <tbody>\n",
       "    <tr>\n",
       "      <th>0</th>\n",
       "      <td>King County</td>\n",
       "      <td>WA</td>\n",
       "      <td>2002</td>\n",
       "      <td>154.750000</td>\n",
       "      <td>2005</td>\n",
       "      <td>202.750000</td>\n",
       "      <td>48.000000</td>\n",
       "      <td>170.750000</td>\n",
       "    </tr>\n",
       "    <tr>\n",
       "      <th>1</th>\n",
       "      <td>Fairfax County</td>\n",
       "      <td>VA</td>\n",
       "      <td>2002</td>\n",
       "      <td>178.583333</td>\n",
       "      <td>2005</td>\n",
       "      <td>302.750000</td>\n",
       "      <td>124.166667</td>\n",
       "      <td>219.972222</td>\n",
       "    </tr>\n",
       "    <tr>\n",
       "      <th>2</th>\n",
       "      <td>Montgomery County</td>\n",
       "      <td>MD</td>\n",
       "      <td>2002</td>\n",
       "      <td>170.083333</td>\n",
       "      <td>2005</td>\n",
       "      <td>282.000000</td>\n",
       "      <td>111.916667</td>\n",
       "      <td>207.388889</td>\n",
       "    </tr>\n",
       "    <tr>\n",
       "      <th>3</th>\n",
       "      <td>Prince Georges County</td>\n",
       "      <td>MD</td>\n",
       "      <td>2002</td>\n",
       "      <td>108.583333</td>\n",
       "      <td>2005</td>\n",
       "      <td>194.166667</td>\n",
       "      <td>85.583333</td>\n",
       "      <td>137.111111</td>\n",
       "    </tr>\n",
       "    <tr>\n",
       "      <th>4</th>\n",
       "      <td>Baltimore County</td>\n",
       "      <td>MD</td>\n",
       "      <td>2002</td>\n",
       "      <td>99.250000</td>\n",
       "      <td>2005</td>\n",
       "      <td>163.666667</td>\n",
       "      <td>64.416667</td>\n",
       "      <td>120.722222</td>\n",
       "    </tr>\n",
       "  </tbody>\n",
       "</table>\n",
       "</div>"
      ],
      "text/plain": [
       "                  County State  Year_x     Price_x  Year_y     Price_y  \\\n",
       "0            King County    WA    2002  154.750000    2005  202.750000   \n",
       "1         Fairfax County    VA    2002  178.583333    2005  302.750000   \n",
       "2      Montgomery County    MD    2002  170.083333    2005  282.000000   \n",
       "3  Prince Georges County    MD    2002  108.583333    2005  194.166667   \n",
       "4       Baltimore County    MD    2002   99.250000    2005  163.666667   \n",
       "\n",
       "   Diff_Price  2003_Price  \n",
       "0   48.000000  170.750000  \n",
       "1  124.166667  219.972222  \n",
       "2  111.916667  207.388889  \n",
       "3   85.583333  137.111111  \n",
       "4   64.416667  120.722222  "
      ]
     },
     "execution_count": 9,
     "metadata": {},
     "output_type": "execute_result"
    }
   ],
   "source": [
    "backfill_df['2003_Price'] = backfill_df['Diff_Price']/3 + backfill_df['Price_x']\n",
    "backfill_df.head()"
   ]
  },
  {
   "cell_type": "code",
   "execution_count": 10,
   "metadata": {},
   "outputs": [
    {
     "data": {
      "text/html": [
       "<div>\n",
       "<style scoped>\n",
       "    .dataframe tbody tr th:only-of-type {\n",
       "        vertical-align: middle;\n",
       "    }\n",
       "\n",
       "    .dataframe tbody tr th {\n",
       "        vertical-align: top;\n",
       "    }\n",
       "\n",
       "    .dataframe thead th {\n",
       "        text-align: right;\n",
       "    }\n",
       "</style>\n",
       "<table border=\"1\" class=\"dataframe\">\n",
       "  <thead>\n",
       "    <tr style=\"text-align: right;\">\n",
       "      <th></th>\n",
       "      <th>County</th>\n",
       "      <th>State</th>\n",
       "      <th>Year_x</th>\n",
       "      <th>Price_x</th>\n",
       "      <th>Year_y</th>\n",
       "      <th>Price_y</th>\n",
       "      <th>Diff_Price</th>\n",
       "      <th>2003_Price</th>\n",
       "      <th>2004_Price</th>\n",
       "    </tr>\n",
       "  </thead>\n",
       "  <tbody>\n",
       "    <tr>\n",
       "      <th>0</th>\n",
       "      <td>King County</td>\n",
       "      <td>WA</td>\n",
       "      <td>2002</td>\n",
       "      <td>154.750000</td>\n",
       "      <td>2005</td>\n",
       "      <td>202.750000</td>\n",
       "      <td>48.000000</td>\n",
       "      <td>170.750000</td>\n",
       "      <td>186.750000</td>\n",
       "    </tr>\n",
       "    <tr>\n",
       "      <th>1</th>\n",
       "      <td>Fairfax County</td>\n",
       "      <td>VA</td>\n",
       "      <td>2002</td>\n",
       "      <td>178.583333</td>\n",
       "      <td>2005</td>\n",
       "      <td>302.750000</td>\n",
       "      <td>124.166667</td>\n",
       "      <td>219.972222</td>\n",
       "      <td>261.361111</td>\n",
       "    </tr>\n",
       "    <tr>\n",
       "      <th>2</th>\n",
       "      <td>Montgomery County</td>\n",
       "      <td>MD</td>\n",
       "      <td>2002</td>\n",
       "      <td>170.083333</td>\n",
       "      <td>2005</td>\n",
       "      <td>282.000000</td>\n",
       "      <td>111.916667</td>\n",
       "      <td>207.388889</td>\n",
       "      <td>244.694444</td>\n",
       "    </tr>\n",
       "    <tr>\n",
       "      <th>3</th>\n",
       "      <td>Prince Georges County</td>\n",
       "      <td>MD</td>\n",
       "      <td>2002</td>\n",
       "      <td>108.583333</td>\n",
       "      <td>2005</td>\n",
       "      <td>194.166667</td>\n",
       "      <td>85.583333</td>\n",
       "      <td>137.111111</td>\n",
       "      <td>165.638889</td>\n",
       "    </tr>\n",
       "    <tr>\n",
       "      <th>4</th>\n",
       "      <td>Baltimore County</td>\n",
       "      <td>MD</td>\n",
       "      <td>2002</td>\n",
       "      <td>99.250000</td>\n",
       "      <td>2005</td>\n",
       "      <td>163.666667</td>\n",
       "      <td>64.416667</td>\n",
       "      <td>120.722222</td>\n",
       "      <td>142.194444</td>\n",
       "    </tr>\n",
       "  </tbody>\n",
       "</table>\n",
       "</div>"
      ],
      "text/plain": [
       "                  County State  Year_x     Price_x  Year_y     Price_y  \\\n",
       "0            King County    WA    2002  154.750000    2005  202.750000   \n",
       "1         Fairfax County    VA    2002  178.583333    2005  302.750000   \n",
       "2      Montgomery County    MD    2002  170.083333    2005  282.000000   \n",
       "3  Prince Georges County    MD    2002  108.583333    2005  194.166667   \n",
       "4       Baltimore County    MD    2002   99.250000    2005  163.666667   \n",
       "\n",
       "   Diff_Price  2003_Price  2004_Price  \n",
       "0   48.000000  170.750000  186.750000  \n",
       "1  124.166667  219.972222  261.361111  \n",
       "2  111.916667  207.388889  244.694444  \n",
       "3   85.583333  137.111111  165.638889  \n",
       "4   64.416667  120.722222  142.194444  "
      ]
     },
     "execution_count": 10,
     "metadata": {},
     "output_type": "execute_result"
    }
   ],
   "source": [
    "backfill_df['2004_Price'] = backfill_df['Price_y'] - backfill_df['Diff_Price']/3 \n",
    "backfill_df.head()"
   ]
  },
  {
   "cell_type": "code",
   "execution_count": 11,
   "metadata": {},
   "outputs": [
    {
     "name": "stderr",
     "output_type": "stream",
     "text": [
      "/anaconda3/envs/PythonData/lib/python3.6/site-packages/pandas/core/indexing.py:1494: FutureWarning: \n",
      "Passing list-likes to .loc or [] with any missing label will raise\n",
      "KeyError in the future, you can use .reindex() as an alternative.\n",
      "\n",
      "See the documentation here:\n",
      "https://pandas.pydata.org/pandas-docs/stable/indexing.html#deprecate-loc-reindex-listlike\n",
      "  return self._getitem_tuple(key)\n"
     ]
    },
    {
     "data": {
      "text/html": [
       "<div>\n",
       "<style scoped>\n",
       "    .dataframe tbody tr th:only-of-type {\n",
       "        vertical-align: middle;\n",
       "    }\n",
       "\n",
       "    .dataframe tbody tr th {\n",
       "        vertical-align: top;\n",
       "    }\n",
       "\n",
       "    .dataframe thead th {\n",
       "        text-align: right;\n",
       "    }\n",
       "</style>\n",
       "<table border=\"1\" class=\"dataframe\">\n",
       "  <thead>\n",
       "    <tr style=\"text-align: right;\">\n",
       "      <th></th>\n",
       "      <th>County</th>\n",
       "      <th>State</th>\n",
       "      <th>Year</th>\n",
       "      <th>Price</th>\n",
       "    </tr>\n",
       "  </thead>\n",
       "  <tbody>\n",
       "    <tr>\n",
       "      <th>0</th>\n",
       "      <td>King County</td>\n",
       "      <td>WA</td>\n",
       "      <td>2003</td>\n",
       "      <td>170.750000</td>\n",
       "    </tr>\n",
       "    <tr>\n",
       "      <th>1</th>\n",
       "      <td>Fairfax County</td>\n",
       "      <td>VA</td>\n",
       "      <td>2003</td>\n",
       "      <td>219.972222</td>\n",
       "    </tr>\n",
       "    <tr>\n",
       "      <th>2</th>\n",
       "      <td>Montgomery County</td>\n",
       "      <td>MD</td>\n",
       "      <td>2003</td>\n",
       "      <td>207.388889</td>\n",
       "    </tr>\n",
       "    <tr>\n",
       "      <th>3</th>\n",
       "      <td>Prince Georges County</td>\n",
       "      <td>MD</td>\n",
       "      <td>2003</td>\n",
       "      <td>137.111111</td>\n",
       "    </tr>\n",
       "    <tr>\n",
       "      <th>4</th>\n",
       "      <td>Baltimore County</td>\n",
       "      <td>MD</td>\n",
       "      <td>2003</td>\n",
       "      <td>120.722222</td>\n",
       "    </tr>\n",
       "  </tbody>\n",
       "</table>\n",
       "</div>"
      ],
      "text/plain": [
       "                  County State  Year       Price\n",
       "0            King County    WA  2003  170.750000\n",
       "1         Fairfax County    VA  2003  219.972222\n",
       "2      Montgomery County    MD  2003  207.388889\n",
       "3  Prince Georges County    MD  2003  137.111111\n",
       "4       Baltimore County    MD  2003  120.722222"
      ]
     },
     "execution_count": 11,
     "metadata": {},
     "output_type": "execute_result"
    }
   ],
   "source": [
    "backfill_2003 = backfill_df.loc[:, ['County','State','Year','2003_Price']]\n",
    "backfill_2003['Year'] = 2003\n",
    "backfill_2003 = backfill_2003.rename(columns = {'2003_Price': 'Price'})\n",
    "backfill_2003.head()"
   ]
  },
  {
   "cell_type": "code",
   "execution_count": 12,
   "metadata": {},
   "outputs": [
    {
     "data": {
      "text/html": [
       "<div>\n",
       "<style scoped>\n",
       "    .dataframe tbody tr th:only-of-type {\n",
       "        vertical-align: middle;\n",
       "    }\n",
       "\n",
       "    .dataframe tbody tr th {\n",
       "        vertical-align: top;\n",
       "    }\n",
       "\n",
       "    .dataframe thead th {\n",
       "        text-align: right;\n",
       "    }\n",
       "</style>\n",
       "<table border=\"1\" class=\"dataframe\">\n",
       "  <thead>\n",
       "    <tr style=\"text-align: right;\">\n",
       "      <th></th>\n",
       "      <th>County</th>\n",
       "      <th>State</th>\n",
       "      <th>Year</th>\n",
       "      <th>Price</th>\n",
       "    </tr>\n",
       "  </thead>\n",
       "  <tbody>\n",
       "    <tr>\n",
       "      <th>0</th>\n",
       "      <td>King County</td>\n",
       "      <td>WA</td>\n",
       "      <td>2004</td>\n",
       "      <td>186.750000</td>\n",
       "    </tr>\n",
       "    <tr>\n",
       "      <th>1</th>\n",
       "      <td>Fairfax County</td>\n",
       "      <td>VA</td>\n",
       "      <td>2004</td>\n",
       "      <td>261.361111</td>\n",
       "    </tr>\n",
       "    <tr>\n",
       "      <th>2</th>\n",
       "      <td>Montgomery County</td>\n",
       "      <td>MD</td>\n",
       "      <td>2004</td>\n",
       "      <td>244.694444</td>\n",
       "    </tr>\n",
       "    <tr>\n",
       "      <th>3</th>\n",
       "      <td>Prince Georges County</td>\n",
       "      <td>MD</td>\n",
       "      <td>2004</td>\n",
       "      <td>165.638889</td>\n",
       "    </tr>\n",
       "    <tr>\n",
       "      <th>4</th>\n",
       "      <td>Baltimore County</td>\n",
       "      <td>MD</td>\n",
       "      <td>2004</td>\n",
       "      <td>142.194444</td>\n",
       "    </tr>\n",
       "  </tbody>\n",
       "</table>\n",
       "</div>"
      ],
      "text/plain": [
       "                  County State  Year       Price\n",
       "0            King County    WA  2004  186.750000\n",
       "1         Fairfax County    VA  2004  261.361111\n",
       "2      Montgomery County    MD  2004  244.694444\n",
       "3  Prince Georges County    MD  2004  165.638889\n",
       "4       Baltimore County    MD  2004  142.194444"
      ]
     },
     "execution_count": 12,
     "metadata": {},
     "output_type": "execute_result"
    }
   ],
   "source": [
    "backfill_2004 = backfill_df.loc[:, ['County','State','Year','2004_Price']]\n",
    "backfill_2004['Year'] = 2004\n",
    "backfill_2004 = backfill_2004.rename(columns = {'2004_Price': 'Price'})\n",
    "backfill_2004.head()"
   ]
  },
  {
   "cell_type": "code",
   "execution_count": 13,
   "metadata": {},
   "outputs": [
    {
     "data": {
      "text/html": [
       "<div>\n",
       "<style scoped>\n",
       "    .dataframe tbody tr th:only-of-type {\n",
       "        vertical-align: middle;\n",
       "    }\n",
       "\n",
       "    .dataframe tbody tr th {\n",
       "        vertical-align: top;\n",
       "    }\n",
       "\n",
       "    .dataframe thead th {\n",
       "        text-align: right;\n",
       "    }\n",
       "</style>\n",
       "<table border=\"1\" class=\"dataframe\">\n",
       "  <thead>\n",
       "    <tr style=\"text-align: right;\">\n",
       "      <th></th>\n",
       "      <th>County</th>\n",
       "      <th>State</th>\n",
       "      <th>Year</th>\n",
       "      <th>Price</th>\n",
       "    </tr>\n",
       "  </thead>\n",
       "  <tbody>\n",
       "    <tr>\n",
       "      <th>0</th>\n",
       "      <td>King County</td>\n",
       "      <td>WA</td>\n",
       "      <td>2000</td>\n",
       "      <td>141.166667</td>\n",
       "    </tr>\n",
       "    <tr>\n",
       "      <th>1</th>\n",
       "      <td>Fairfax County</td>\n",
       "      <td>VA</td>\n",
       "      <td>2000</td>\n",
       "      <td>134.000000</td>\n",
       "    </tr>\n",
       "    <tr>\n",
       "      <th>2</th>\n",
       "      <td>Montgomery County</td>\n",
       "      <td>MD</td>\n",
       "      <td>2000</td>\n",
       "      <td>126.916667</td>\n",
       "    </tr>\n",
       "    <tr>\n",
       "      <th>3</th>\n",
       "      <td>Prince Georges County</td>\n",
       "      <td>MD</td>\n",
       "      <td>2000</td>\n",
       "      <td>91.833333</td>\n",
       "    </tr>\n",
       "    <tr>\n",
       "      <th>4</th>\n",
       "      <td>Baltimore County</td>\n",
       "      <td>MD</td>\n",
       "      <td>2000</td>\n",
       "      <td>86.750000</td>\n",
       "    </tr>\n",
       "  </tbody>\n",
       "</table>\n",
       "</div>"
      ],
      "text/plain": [
       "                  County State  Year       Price\n",
       "0            King County    WA  2000  141.166667\n",
       "1         Fairfax County    VA  2000  134.000000\n",
       "2      Montgomery County    MD  2000  126.916667\n",
       "3  Prince Georges County    MD  2000   91.833333\n",
       "4       Baltimore County    MD  2000   86.750000"
      ]
     },
     "execution_count": 13,
     "metadata": {},
     "output_type": "execute_result"
    }
   ],
   "source": [
    "training_df = training_df.append(backfill_2003, ignore_index=True)\n",
    "training_df = training_df.append(backfill_2004, ignore_index=True)\n",
    "training_df.head()"
   ]
  },
  {
   "cell_type": "code",
   "execution_count": 14,
   "metadata": {},
   "outputs": [
    {
     "name": "stdout",
     "output_type": "stream",
     "text": [
      "County    45\n",
      "State     45\n",
      "Year      45\n",
      "Price      0\n",
      "dtype: int64\n"
     ]
    }
   ],
   "source": [
    "print(training_df.loc[training_df['Price'].isin(['NaN'])].count())"
   ]
  },
  {
   "cell_type": "code",
   "execution_count": 15,
   "metadata": {},
   "outputs": [
    {
     "data": {
      "text/plain": [
       "County    1391\n",
       "State     1391\n",
       "Year      1391\n",
       "Price     1391\n",
       "dtype: int64"
      ]
     },
     "execution_count": 15,
     "metadata": {},
     "output_type": "execute_result"
    }
   ],
   "source": [
    "training_dfdum = training_df.dropna()\n",
    "training_dfdum.head()\n",
    "training_dfdum.count()"
   ]
  },
  {
   "cell_type": "code",
   "execution_count": 16,
   "metadata": {},
   "outputs": [
    {
     "name": "stdout",
     "output_type": "stream",
     "text": [
      "Empty DataFrame\n",
      "Columns: [County, State, Year, Price]\n",
      "Index: []\n"
     ]
    }
   ],
   "source": [
    "print(training_dfdum.loc[training_dfdum['Price'].isin(['NaN'])])"
   ]
  },
  {
   "cell_type": "code",
   "execution_count": 17,
   "metadata": {},
   "outputs": [
    {
     "data": {
      "image/png": "[encoded data removed]",
      "text/plain": [
       "<Figure size 432x288 with 1 Axes>"
      ]
     },
     "metadata": {
      "needs_background": "light"
     },
     "output_type": "display_data"
    }
   ],
   "source": [
    "# Plot Training Data After Handling Missig Data - YoY Price of All Counties \n",
    "plt.plot(training_df['Year'], training_df['Price'],'o')\n",
    "plt.title('YoY Housing Price (Per SQFT Per County) - Training set (processed)')\n",
    "plt.xlabel('Year')\n",
    "plt.ylabel('Salary')\n",
    "plt.show()"
   ]
  },
  {
   "cell_type": "code",
   "execution_count": 18,
   "metadata": {},
   "outputs": [
    {
     "name": "stdout",
     "output_type": "stream",
     "text": [
      "Index(['County', 'State', 'Year', 'Price', 'County_Adams County',\n",
      "       'County_Allegany County', 'County_Alleghany County',\n",
      "       'County_Amherst County', 'County_Anne Arundel County',\n",
      "       'County_Arlington County',\n",
      "       ...\n",
      "       'County_Wicomico County', 'County_Williamsburg City',\n",
      "       'County_Winchester City', 'County_Worcester County',\n",
      "       'County_Yakima County', 'County_York County', 'State_DC', 'State_MD',\n",
      "       'State_VA', 'State_WA'],\n",
      "      dtype='object', length=134)\n"
     ]
    },
    {
     "data": {
      "text/plain": [
       "County                         1391\n",
       "State                          1391\n",
       "Year                           1391\n",
       "Price                          1391\n",
       "County_Adams County            1391\n",
       "County_Allegany County         1391\n",
       "County_Alleghany County        1391\n",
       "County_Amherst County          1391\n",
       "County_Anne Arundel County     1391\n",
       "County_Arlington County        1391\n",
       "County_Asotin County           1391\n",
       "County_Augusta County          1391\n",
       "County_Baltimore City          1391\n",
       "County_Baltimore County        1391\n",
       "County_Bedford County          1391\n",
       "County_Benton County           1391\n",
       "County_Botetourt County        1391\n",
       "County_Bristol City            1391\n",
       "County_Calvert County          1391\n",
       "County_Caroline County         1391\n",
       "County_Carroll County          1391\n",
       "County_Cecil County            1391\n",
       "County_Charles County          1391\n",
       "County_Charlottesville City    1391\n",
       "County_Chelan County           1391\n",
       "County_Chesapeake City         1391\n",
       "County_Chesterfield County     1391\n",
       "County_Clallam County          1391\n",
       "County_Clark County            1391\n",
       "County_Clarke County           1391\n",
       "                               ... \n",
       "County_San Juan County         1391\n",
       "County_Scott County            1391\n",
       "County_Shenandoah County       1391\n",
       "County_Skagit County           1391\n",
       "County_Snohomish County        1391\n",
       "County_Somerset County         1391\n",
       "County_Spokane County          1391\n",
       "County_Spotsylvania County     1391\n",
       "County_Stafford County         1391\n",
       "County_Staunton City           1391\n",
       "County_Stevens County          1391\n",
       "County_Suffolk City            1391\n",
       "County_Talbot County           1391\n",
       "County_Thurston County         1391\n",
       "County_Virginia Beach City     1391\n",
       "County_Walla Walla County      1391\n",
       "County_Warren County           1391\n",
       "County_Washington County       1391\n",
       "County_Waynesboro City         1391\n",
       "County_Whatcom County          1391\n",
       "County_Wicomico County         1391\n",
       "County_Williamsburg City       1391\n",
       "County_Winchester City         1391\n",
       "County_Worcester County        1391\n",
       "County_Yakima County           1391\n",
       "County_York County             1391\n",
       "State_DC                       1391\n",
       "State_MD                       1391\n",
       "State_VA                       1391\n",
       "State_WA                       1391\n",
       "Length: 134, dtype: int64"
      ]
     },
     "execution_count": 18,
     "metadata": {},
     "output_type": "execute_result"
    }
   ],
   "source": [
    "# Encode Categorical Features - County and State\n",
    "cat_features = ['County','State']\n",
    "num_features = ['Price','Year']\n",
    "\n",
    "categories = cat_features[0:len(cat_features)]\n",
    "\n",
    "for category in categories:\n",
    "    series = training_dfdum[category]\n",
    "    dummies = pd.get_dummies(series, prefix=category)\n",
    "    training_dfdum = pd.concat([training_dfdum, dummies], axis=1)\n",
    "    \n",
    "print(training_dfdum.columns)\n",
    "training_dfdum.head()\n",
    "training_dfdum.count()"
   ]
  },
  {
   "cell_type": "code",
   "execution_count": 19,
   "metadata": {},
   "outputs": [],
   "source": [
    "# Feature Scaling (remove features not encoded) \n",
    "removefeats= [\"County\",\"State\",\"Price\"]\n",
    "\n",
    "# standardScalerX = StandardScaler()\n",
    "# x = standardScalerX.fit_transform(training_dfdum.drop(removefeats, axis=1))\n",
    "# x"
   ]
  },
  {
   "cell_type": "code",
   "execution_count": 20,
   "metadata": {},
   "outputs": [],
   "source": [
    "# Create & Fit Linear Regression Model \n",
    "# X_train = x\n",
    "X_train = training_dfdum.drop(removefeats, axis=1)\n",
    "y_train = training_dfdum['Price']\n",
    "\n",
    "regr = linear_model.LinearRegression()\n",
    "\n",
    "lr_model = regr.fit(X_train, y_train)\n"
   ]
  },
  {
   "cell_type": "code",
   "execution_count": 21,
   "metadata": {},
   "outputs": [
    {
     "name": "stdout",
     "output_type": "stream",
     "text": [
      "True output: 141.16666666666666\n",
      "Predicted output: 160.34375\n",
      "Prediction Error: 19.177083333333343\n"
     ]
    }
   ],
   "source": [
    "# Predict Training Data\n",
    "y_train_predict = lr_model.predict(X_train)\n",
    "print(f\"True output: {y_train[0]}\")\n",
    "print(f\"Predicted output: {y_train_predict[0]}\")\n",
    "print(f\"Prediction Error: {y_train_predict[0]-y_train[0]}\")"
   ]
  },
  {
   "cell_type": "code",
   "execution_count": 22,
   "metadata": {},
   "outputs": [
    {
     "name": "stdout",
     "output_type": "stream",
     "text": [
      "True output: 126.91666666666669\n",
      "Predicted output: 150.296875\n",
      "Prediction Error: 23.380208333333314\n"
     ]
    }
   ],
   "source": [
    "print(f\"True output: {y_train[2]}\")\n",
    "print(f\"Predicted output: {y_train_predict[2]}\")\n",
    "print(f\"Prediction Error: {y_train_predict[2]-y_train[2]}\")"
   ]
  },
  {
   "cell_type": "code",
   "execution_count": 23,
   "metadata": {},
   "outputs": [
    {
     "name": "stdout",
     "output_type": "stream",
     "text": [
      "R2 Score: 0.824568509114207\n"
     ]
    }
   ],
   "source": [
    "# R2 Score\n",
    "score = lr_model.score(X_train, y_train)\n",
    "print(f\"R2 Score: {score}\")"
   ]
  },
  {
   "cell_type": "code",
   "execution_count": 24,
   "metadata": {},
   "outputs": [
    {
     "data": {
      "image/png": "[encoded data removed]",
      "text/plain": [
       "<Figure size 432x288 with 1 Axes>"
      ]
     },
     "metadata": {
      "needs_background": "light"
     },
     "output_type": "display_data"
    }
   ],
   "source": [
    "# Plot Residuals\n",
    "plt.scatter(y_train_predict, y_train_predict - y_train)\n",
    "plt.hlines(y=0, xmin=y_train_predict.min(), xmax=y_train_predict.max())\n",
    "plt.show()"
   ]
  },
  {
   "cell_type": "code",
   "execution_count": null,
   "metadata": {},
   "outputs": [],
   "source": []
  },
  {
   "cell_type": "code",
   "execution_count": null,
   "metadata": {},
   "outputs": [],
   "source": []
  },
  {
   "cell_type": "code",
   "execution_count": null,
   "metadata": {},
   "outputs": [],
   "source": []
  },
  {
   "cell_type": "code",
   "execution_count": 25,
   "metadata": {},
   "outputs": [
    {
     "data": {
      "text/plain": [
       "County    1056\n",
       "State     1056\n",
       "Year      1056\n",
       "Price     1056\n",
       "dtype: int64"
      ]
     },
     "execution_count": 25,
     "metadata": {},
     "output_type": "execute_result"
    }
   ],
   "source": [
    "# Read Housing Price Testing Data\n",
    "testing_df = pd.read_csv(\"MLResources/realestate_all_test.csv\")\n",
    "testing_df.head()\n",
    "testing_df.count()"
   ]
  },
  {
   "cell_type": "code",
   "execution_count": 26,
   "metadata": {},
   "outputs": [
    {
     "data": {
      "image/png": "[encoded data removed]",
      "text/plain": [
       "<Figure size 432x288 with 1 Axes>"
      ]
     },
     "metadata": {
      "needs_background": "light"
     },
     "output_type": "display_data"
    }
   ],
   "source": [
    "# Plot Testing Data - YoY Price of All Counties \n",
    "plt.plot(testing_df['Year'], testing_df['Price'],'o')\n",
    "plt.title('YoY Housing Price (Per SQFT Per County) - Testing set (Unprocessed)')\n",
    "plt.xlabel('Year')\n",
    "plt.ylabel('Salary')\n",
    "plt.show()"
   ]
  },
  {
   "cell_type": "code",
   "execution_count": 27,
   "metadata": {},
   "outputs": [
    {
     "data": {
      "text/plain": [
       "County    1056\n",
       "State     1056\n",
       "Year      1056\n",
       "Price     1056\n",
       "dtype: int64"
      ]
     },
     "execution_count": 27,
     "metadata": {},
     "output_type": "execute_result"
    }
   ],
   "source": [
    "testing_dfdum = testing_df.dropna()\n",
    "testing_dfdum.head()\n",
    "testing_dfdum.count()"
   ]
  },
  {
   "cell_type": "code",
   "execution_count": 28,
   "metadata": {},
   "outputs": [
    {
     "name": "stdout",
     "output_type": "stream",
     "text": [
      "Index(['County', 'State', 'Year', 'Price', 'County_Adams County',\n",
      "       'County_Allegany County', 'County_Alleghany County',\n",
      "       'County_Amherst County', 'County_Anne Arundel County',\n",
      "       'County_Arlington County',\n",
      "       ...\n",
      "       'County_Wicomico County', 'County_Williamsburg City',\n",
      "       'County_Winchester City', 'County_Worcester County',\n",
      "       'County_Yakima County', 'County_York County', 'State_DC', 'State_MD',\n",
      "       'State_VA', 'State_WA'],\n",
      "      dtype='object', length=135)\n"
     ]
    },
    {
     "data": {
      "text/plain": [
       "County                         1056\n",
       "State                          1056\n",
       "Year                           1056\n",
       "Price                          1056\n",
       "County_Adams County            1056\n",
       "County_Allegany County         1056\n",
       "County_Alleghany County        1056\n",
       "County_Amherst County          1056\n",
       "County_Anne Arundel County     1056\n",
       "County_Arlington County        1056\n",
       "County_Asotin County           1056\n",
       "County_Augusta County          1056\n",
       "County_Baltimore City          1056\n",
       "County_Baltimore County        1056\n",
       "County_Bedford County          1056\n",
       "County_Benton County           1056\n",
       "County_Botetourt County        1056\n",
       "County_Bristol City            1056\n",
       "County_Calvert County          1056\n",
       "County_Caroline County         1056\n",
       "County_Carroll County          1056\n",
       "County_Cecil County            1056\n",
       "County_Charles County          1056\n",
       "County_Charlottesville City    1056\n",
       "County_Chelan County           1056\n",
       "County_Chesapeake City         1056\n",
       "County_Chesterfield County     1056\n",
       "County_Clallam County          1056\n",
       "County_Clark County            1056\n",
       "County_Clarke County           1056\n",
       "                               ... \n",
       "County_Scott County            1056\n",
       "County_Shenandoah County       1056\n",
       "County_Skagit County           1056\n",
       "County_Snohomish County        1056\n",
       "County_Somerset County         1056\n",
       "County_Spokane County          1056\n",
       "County_Spotsylvania County     1056\n",
       "County_Stafford County         1056\n",
       "County_Staunton City           1056\n",
       "County_Stevens County          1056\n",
       "County_Suffolk City            1056\n",
       "County_Talbot County           1056\n",
       "County_Thurston County         1056\n",
       "County_Virginia Beach City     1056\n",
       "County_Walla Walla County      1056\n",
       "County_Warren County           1056\n",
       "County_Washington County       1056\n",
       "County_Waynesboro City         1056\n",
       "County_Whatcom County          1056\n",
       "County_Whitman County          1056\n",
       "County_Wicomico County         1056\n",
       "County_Williamsburg City       1056\n",
       "County_Winchester City         1056\n",
       "County_Worcester County        1056\n",
       "County_Yakima County           1056\n",
       "County_York County             1056\n",
       "State_DC                       1056\n",
       "State_MD                       1056\n",
       "State_VA                       1056\n",
       "State_WA                       1056\n",
       "Length: 135, dtype: int64"
      ]
     },
     "execution_count": 28,
     "metadata": {},
     "output_type": "execute_result"
    }
   ],
   "source": [
    "# Encode Categorical Features - County and State\n",
    "# cat_features = ['County','State']\n",
    "# num_features = ['Price','Year']\n",
    "\n",
    "# categories = cat_features[0:len(cat_features)]\n",
    "\n",
    "for category in categories:\n",
    "    series = testing_dfdum[category]\n",
    "    dummies = pd.get_dummies(series, prefix=category)\n",
    "    testing_dfdum = pd.concat([testing_dfdum, dummies], axis=1)\n",
    "    \n",
    "print(testing_dfdum.columns)\n",
    "testing_dfdum.head()\n",
    "testing_dfdum.count()"
   ]
  },
  {
   "cell_type": "code",
   "execution_count": 29,
   "metadata": {},
   "outputs": [
    {
     "name": "stdout",
     "output_type": "stream",
     "text": [
      "{'County_Whitman County'}\n"
     ]
    },
    {
     "data": {
      "text/plain": [
       "County                         1054\n",
       "State                          1054\n",
       "Year                           1054\n",
       "Price                          1054\n",
       "County_Adams County            1054\n",
       "County_Allegany County         1054\n",
       "County_Alleghany County        1054\n",
       "County_Amherst County          1054\n",
       "County_Anne Arundel County     1054\n",
       "County_Arlington County        1054\n",
       "County_Asotin County           1054\n",
       "County_Augusta County          1054\n",
       "County_Baltimore City          1054\n",
       "County_Baltimore County        1054\n",
       "County_Bedford County          1054\n",
       "County_Benton County           1054\n",
       "County_Botetourt County        1054\n",
       "County_Bristol City            1054\n",
       "County_Calvert County          1054\n",
       "County_Caroline County         1054\n",
       "County_Carroll County          1054\n",
       "County_Cecil County            1054\n",
       "County_Charles County          1054\n",
       "County_Charlottesville City    1054\n",
       "County_Chelan County           1054\n",
       "County_Chesapeake City         1054\n",
       "County_Chesterfield County     1054\n",
       "County_Clallam County          1054\n",
       "County_Clark County            1054\n",
       "County_Clarke County           1054\n",
       "                               ... \n",
       "County_San Juan County         1054\n",
       "County_Scott County            1054\n",
       "County_Shenandoah County       1054\n",
       "County_Skagit County           1054\n",
       "County_Snohomish County        1054\n",
       "County_Somerset County         1054\n",
       "County_Spokane County          1054\n",
       "County_Spotsylvania County     1054\n",
       "County_Stafford County         1054\n",
       "County_Staunton City           1054\n",
       "County_Stevens County          1054\n",
       "County_Suffolk City            1054\n",
       "County_Talbot County           1054\n",
       "County_Thurston County         1054\n",
       "County_Virginia Beach City     1054\n",
       "County_Walla Walla County      1054\n",
       "County_Warren County           1054\n",
       "County_Washington County       1054\n",
       "County_Waynesboro City         1054\n",
       "County_Whatcom County          1054\n",
       "County_Wicomico County         1054\n",
       "County_Williamsburg City       1054\n",
       "County_Winchester City         1054\n",
       "County_Worcester County        1054\n",
       "County_Yakima County           1054\n",
       "County_York County             1054\n",
       "State_DC                       1054\n",
       "State_MD                       1054\n",
       "State_VA                       1054\n",
       "State_WA                       1054\n",
       "Length: 134, dtype: int64"
      ]
     },
     "execution_count": 29,
     "metadata": {},
     "output_type": "execute_result"
    }
   ],
   "source": [
    "# # Get missing columns in the training test\n",
    "# missing_cols = set( X_train.columns ) - set( X_test.columns )\n",
    "# # Add a missing column in test set with default value equal to 0\n",
    "# for c in missing_cols:\n",
    "#     testing_dfdum[c] = 0\n",
    "# # Ensure the order of column in the test set is in the same order than in train set\n",
    "# testing_dfdum = testing_dfdum[training_dfdum.columns]\n",
    "# testing_dfdum.head()\n",
    "\n",
    "# Get missing columns in the training set\n",
    "print(set(testing_dfdum.columns) - set(training_dfdum.columns))\n",
    "\n",
    "# Drop columns from the testing set\n",
    "missing_cols = set(testing_dfdum.columns) - set(training_dfdum.columns)\n",
    "for c in missing_cols:\n",
    "    testing_dfdum = testing_dfdum.drop(testing_dfdum[c]).reset_index(drop=True)\n",
    "\n",
    "# Ensure the order of column in the test set is in the same order as in train set\n",
    "testing_dfdum = testing_dfdum[training_dfdum.columns]\n",
    "testing_dfdum.count()"
   ]
  },
  {
   "cell_type": "code",
   "execution_count": 30,
   "metadata": {},
   "outputs": [
    {
     "data": {
      "text/html": [
       "<div>\n",
       "<style scoped>\n",
       "    .dataframe tbody tr th:only-of-type {\n",
       "        vertical-align: middle;\n",
       "    }\n",
       "\n",
       "    .dataframe tbody tr th {\n",
       "        vertical-align: top;\n",
       "    }\n",
       "\n",
       "    .dataframe thead th {\n",
       "        text-align: right;\n",
       "    }\n",
       "</style>\n",
       "<table border=\"1\" class=\"dataframe\">\n",
       "  <thead>\n",
       "    <tr style=\"text-align: right;\">\n",
       "      <th></th>\n",
       "      <th>County</th>\n",
       "      <th>State</th>\n",
       "      <th>Year</th>\n",
       "      <th>Price</th>\n",
       "      <th>County_Adams County</th>\n",
       "      <th>County_Allegany County</th>\n",
       "      <th>County_Alleghany County</th>\n",
       "      <th>County_Amherst County</th>\n",
       "      <th>County_Anne Arundel County</th>\n",
       "      <th>County_Arlington County</th>\n",
       "      <th>...</th>\n",
       "      <th>County_Wicomico County</th>\n",
       "      <th>County_Williamsburg City</th>\n",
       "      <th>County_Winchester City</th>\n",
       "      <th>County_Worcester County</th>\n",
       "      <th>County_Yakima County</th>\n",
       "      <th>County_York County</th>\n",
       "      <th>State_DC</th>\n",
       "      <th>State_MD</th>\n",
       "      <th>State_VA</th>\n",
       "      <th>State_WA</th>\n",
       "    </tr>\n",
       "  </thead>\n",
       "  <tbody>\n",
       "    <tr>\n",
       "      <th>0</th>\n",
       "      <td>Montgomery County</td>\n",
       "      <td>MD</td>\n",
       "      <td>2011</td>\n",
       "      <td>224.166667</td>\n",
       "      <td>0</td>\n",
       "      <td>0</td>\n",
       "      <td>0</td>\n",
       "      <td>0</td>\n",
       "      <td>0</td>\n",
       "      <td>0</td>\n",
       "      <td>...</td>\n",
       "      <td>0</td>\n",
       "      <td>0</td>\n",
       "      <td>0</td>\n",
       "      <td>0</td>\n",
       "      <td>0</td>\n",
       "      <td>0</td>\n",
       "      <td>0</td>\n",
       "      <td>1</td>\n",
       "      <td>0</td>\n",
       "      <td>0</td>\n",
       "    </tr>\n",
       "    <tr>\n",
       "      <th>1</th>\n",
       "      <td>Prince Georges County</td>\n",
       "      <td>MD</td>\n",
       "      <td>2011</td>\n",
       "      <td>126.333333</td>\n",
       "      <td>0</td>\n",
       "      <td>0</td>\n",
       "      <td>0</td>\n",
       "      <td>0</td>\n",
       "      <td>0</td>\n",
       "      <td>0</td>\n",
       "      <td>...</td>\n",
       "      <td>0</td>\n",
       "      <td>0</td>\n",
       "      <td>0</td>\n",
       "      <td>0</td>\n",
       "      <td>0</td>\n",
       "      <td>0</td>\n",
       "      <td>0</td>\n",
       "      <td>1</td>\n",
       "      <td>0</td>\n",
       "      <td>0</td>\n",
       "    </tr>\n",
       "    <tr>\n",
       "      <th>2</th>\n",
       "      <td>Baltimore County</td>\n",
       "      <td>MD</td>\n",
       "      <td>2011</td>\n",
       "      <td>141.666667</td>\n",
       "      <td>0</td>\n",
       "      <td>0</td>\n",
       "      <td>0</td>\n",
       "      <td>0</td>\n",
       "      <td>0</td>\n",
       "      <td>0</td>\n",
       "      <td>...</td>\n",
       "      <td>0</td>\n",
       "      <td>0</td>\n",
       "      <td>0</td>\n",
       "      <td>0</td>\n",
       "      <td>0</td>\n",
       "      <td>0</td>\n",
       "      <td>0</td>\n",
       "      <td>1</td>\n",
       "      <td>0</td>\n",
       "      <td>0</td>\n",
       "    </tr>\n",
       "    <tr>\n",
       "      <th>3</th>\n",
       "      <td>Pierce County</td>\n",
       "      <td>WA</td>\n",
       "      <td>2011</td>\n",
       "      <td>126.750000</td>\n",
       "      <td>0</td>\n",
       "      <td>0</td>\n",
       "      <td>0</td>\n",
       "      <td>0</td>\n",
       "      <td>0</td>\n",
       "      <td>0</td>\n",
       "      <td>...</td>\n",
       "      <td>0</td>\n",
       "      <td>0</td>\n",
       "      <td>0</td>\n",
       "      <td>0</td>\n",
       "      <td>0</td>\n",
       "      <td>0</td>\n",
       "      <td>0</td>\n",
       "      <td>0</td>\n",
       "      <td>0</td>\n",
       "      <td>1</td>\n",
       "    </tr>\n",
       "    <tr>\n",
       "      <th>4</th>\n",
       "      <td>Snohomish County</td>\n",
       "      <td>WA</td>\n",
       "      <td>2011</td>\n",
       "      <td>150.333333</td>\n",
       "      <td>0</td>\n",
       "      <td>0</td>\n",
       "      <td>0</td>\n",
       "      <td>0</td>\n",
       "      <td>0</td>\n",
       "      <td>0</td>\n",
       "      <td>...</td>\n",
       "      <td>0</td>\n",
       "      <td>0</td>\n",
       "      <td>0</td>\n",
       "      <td>0</td>\n",
       "      <td>0</td>\n",
       "      <td>0</td>\n",
       "      <td>0</td>\n",
       "      <td>0</td>\n",
       "      <td>0</td>\n",
       "      <td>1</td>\n",
       "    </tr>\n",
       "  </tbody>\n",
       "</table>\n",
       "<p>5 rows × 134 columns</p>\n",
       "</div>"
      ],
      "text/plain": [
       "                  County State  Year       Price  County_Adams County  \\\n",
       "0      Montgomery County    MD  2011  224.166667                    0   \n",
       "1  Prince Georges County    MD  2011  126.333333                    0   \n",
       "2       Baltimore County    MD  2011  141.666667                    0   \n",
       "3          Pierce County    WA  2011  126.750000                    0   \n",
       "4       Snohomish County    WA  2011  150.333333                    0   \n",
       "\n",
       "   County_Allegany County  County_Alleghany County  County_Amherst County  \\\n",
       "0                       0                        0                      0   \n",
       "1                       0                        0                      0   \n",
       "2                       0                        0                      0   \n",
       "3                       0                        0                      0   \n",
       "4                       0                        0                      0   \n",
       "\n",
       "   County_Anne Arundel County  County_Arlington County  ...  \\\n",
       "0                           0                        0  ...   \n",
       "1                           0                        0  ...   \n",
       "2                           0                        0  ...   \n",
       "3                           0                        0  ...   \n",
       "4                           0                        0  ...   \n",
       "\n",
       "   County_Wicomico County  County_Williamsburg City  County_Winchester City  \\\n",
       "0                       0                         0                       0   \n",
       "1                       0                         0                       0   \n",
       "2                       0                         0                       0   \n",
       "3                       0                         0                       0   \n",
       "4                       0                         0                       0   \n",
       "\n",
       "   County_Worcester County  County_Yakima County  County_York County  \\\n",
       "0                        0                     0                   0   \n",
       "1                        0                     0                   0   \n",
       "2                        0                     0                   0   \n",
       "3                        0                     0                   0   \n",
       "4                        0                     0                   0   \n",
       "\n",
       "   State_DC  State_MD  State_VA  State_WA  \n",
       "0         0         1         0         0  \n",
       "1         0         1         0         0  \n",
       "2         0         1         0         0  \n",
       "3         0         0         0         1  \n",
       "4         0         0         0         1  \n",
       "\n",
       "[5 rows x 134 columns]"
      ]
     },
     "execution_count": 30,
     "metadata": {},
     "output_type": "execute_result"
    }
   ],
   "source": [
    "# testing_dfdum = testing_dfdum.reset_index(drop=True)\n",
    "testing_dfdum.head()"
   ]
  },
  {
   "cell_type": "code",
   "execution_count": 31,
   "metadata": {},
   "outputs": [],
   "source": [
    "# Feature Scaling (remove features not encoded) \n",
    "removefeats= [\"County\",\"State\",\"Price\"]\n",
    "\n",
    "# standardScalerX = StandardScaler()\n",
    "# xtest = standardScalerX.fit_transform(testing_dfdum.drop(removefeats, axis=1))\n",
    "# xtest\n",
    "# X_test = xtest\n",
    "\n",
    "X_test = testing_dfdum.drop(removefeats, axis=1)\n",
    "y_test = testing_dfdum['Price']\n"
   ]
  },
  {
   "cell_type": "code",
   "execution_count": 32,
   "metadata": {},
   "outputs": [],
   "source": [
    "# Remove features not encoded\n",
    "# removefeats= [\"County\",\"State\",\"Price\"]\n",
    "\n",
    "# X_test = testing_dfdum.drop(removefeats, axis=1)\n",
    "# y_test = testing_dfdum['Price']"
   ]
  },
  {
   "cell_type": "code",
   "execution_count": 33,
   "metadata": {},
   "outputs": [
    {
     "name": "stdout",
     "output_type": "stream",
     "text": [
      "True output: \n",
      "224.16666666666663\n",
      "Predicted output: 227.125\n",
      "Prediction Error: 2.9583333333333712\n"
     ]
    }
   ],
   "source": [
    "# Predict Testing Data\n",
    "y_test_predict = lr_model.predict(X_test)\n",
    "print(f\"True output: \\n{y_test[0]}\")\n",
    "print(f\"Predicted output: {y_test_predict[0]}\")\n",
    "print(f\"Prediction Error: {y_test_predict[0]-y_test[0]}\")"
   ]
  },
  {
   "cell_type": "code",
   "execution_count": 37,
   "metadata": {},
   "outputs": [
    {
     "name": "stdout",
     "output_type": "stream",
     "text": [
      "True output: \n",
      "141.66666666666666\n",
      "Predicted output: 185.171875\n",
      "Prediction Error: 43.50520833333334\n"
     ]
    }
   ],
   "source": [
    "print(f\"True output: \\n{y_test[2]}\")\n",
    "print(f\"Predicted output: {y_test_predict[2]}\")\n",
    "print(f\"Prediction Error: {y_test_predict[2]-y_test[2]}\")"
   ]
  },
  {
   "cell_type": "code",
   "execution_count": 35,
   "metadata": {},
   "outputs": [
    {
     "name": "stdout",
     "output_type": "stream",
     "text": [
      "R2 Score: -4.21144298333297e+20\n"
     ]
    }
   ],
   "source": [
    "score = lr_model.score(X_test, y_test)\n",
    "print(f\"R2 Score: {score}\")"
   ]
  },
  {
   "cell_type": "code",
   "execution_count": 43,
   "metadata": {},
   "outputs": [
    {
     "name": "stdout",
     "output_type": "stream",
     "text": [
      "68.03125 14202069547278.809\n",
      "21.3125 368.84375\n"
     ]
    }
   ],
   "source": [
    "print(y_test_predict.min(), y_test_predict.max())\n",
    "print(y_train_predict.min(), y_train_predict.max())"
   ]
  },
  {
   "cell_type": "code",
   "execution_count": 36,
   "metadata": {},
   "outputs": [
    {
     "data": {
      "image/png": "[encoded data removed]",
      "text/plain": [
       "<Figure size 432x288 with 1 Axes>"
      ]
     },
     "metadata": {
      "needs_background": "light"
     },
     "output_type": "display_data"
    }
   ],
   "source": [
    "# Plot Residuals\n",
    "plt.scatter(y_test_predict, y_test_predict - y_test)\n",
    "plt.hlines(y=0, xmin=y_test_predict.min(), xmax=y_test_predict.max())\n",
    "plt.show()"
   ]
  },
  {
   "cell_type": "code",
   "execution_count": null,
   "metadata": {},
   "outputs": [],
   "source": []
  }
 ],
 "metadata": {
  "kernelspec": {
   "display_name": "Python 3",
   "language": "python",
   "name": "python3"
  },
  "language_info": {
   "codemirror_mode": {
    "name": "ipython",
    "version": 3
   },
   "file_extension": ".py",
   "mimetype": "text/x-python",
   "name": "python",
   "nbconvert_exporter": "python",
   "pygments_lexer": "ipython3",
   "version": "3.6.8"
  }
 },
 "nbformat": 4,
 "nbformat_minor": 2
}
