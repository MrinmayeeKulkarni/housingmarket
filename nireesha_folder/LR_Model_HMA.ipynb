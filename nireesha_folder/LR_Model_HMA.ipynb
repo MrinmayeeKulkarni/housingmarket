{
 "cells": [
  {
   "cell_type": "code",
   "execution_count": 1,
   "metadata": {},
   "outputs": [],
   "source": [
    "# Dependencies\n",
    "%matplotlib inline\n",
    "\n",
    "import pandas as pd\n",
    "import matplotlib\n",
    "import numpy as np\n",
    "import matplotlib.pyplot as plt\n",
    "\n",
    "from sklearn import linear_model\n",
    "from sklearn.metrics import mean_squared_error, r2_score\n",
    "from sklearn.metrics import accuracy_score\n",
    "from sklearn.preprocessing import StandardScaler\n",
    "\n",
    "import seaborn as sns\n",
    "from math import sqrt"
   ]
  },
  {
   "cell_type": "code",
   "execution_count": 2,
   "metadata": {},
   "outputs": [],
   "source": [
    "# Function to Remove Outliers \n",
    "def remove_outlier(df, col):\n",
    "  q1 = df[col].quantile(0.25)\n",
    "  q3 = df[col].quantile(0.75)\n",
    "  iqr = q3 - q1\n",
    "  lower_bound  = q1 - (1.5  * iqr)\n",
    "  upper_bound = q3 + (1.5 * iqr)\n",
    "  out_df = df.loc[(df[col] > lower_bound) & (df[col] < upper_bound)]\n",
    "  return out_df\n",
    "\n"
   ]
  },
  {
   "cell_type": "markdown",
   "metadata": {},
   "source": [
    "# Read and Process Training Set"
   ]
  },
  {
   "cell_type": "code",
   "execution_count": 3,
   "metadata": {},
   "outputs": [
    {
     "data": {
      "text/plain": [
       "County    1104\n",
       "State     1104\n",
       "Year      1104\n",
       "Price     1104\n",
       "dtype: int64"
      ]
     },
     "execution_count": 3,
     "metadata": {},
     "output_type": "execute_result"
    }
   ],
   "source": [
    "# Read Housing Price Training Data\n",
    "training_df = pd.read_csv(\"MLResources/realestate_all_train.csv\")\n",
    "\n",
    "# Remove outliers - Training Data\n",
    "training_df = remove_outlier(training_df,\"Price\")\n",
    "training_df.reset_index(drop=True, inplace=True)\n",
    "\n",
    "training_df.head()\n",
    "training_df.count()"
   ]
  },
  {
   "cell_type": "code",
   "execution_count": 4,
   "metadata": {},
   "outputs": [
    {
     "data": {
      "image/png": "[encoded data removed]",
      "text/plain": [
       "<Figure size 432x288 with 1 Axes>"
      ]
     },
     "metadata": {
      "needs_background": "light"
     },
     "output_type": "display_data"
    }
   ],
   "source": [
    "# Plot Training Data - YoY Price of All Counties \n",
    "plt.plot(training_df['Year'], training_df['Price'],'o')\n",
    "plt.title('Yearly Median Housing Price Per SqFt (Training set)')\n",
    "plt.xlabel('Year')\n",
    "plt.ylabel('Price Per SqFt ($)')\n",
    "plt.show()"
   ]
  },
  {
   "cell_type": "markdown",
   "metadata": {},
   "source": [
    "# Handling Missing Data"
   ]
  },
  {
   "cell_type": "code",
   "execution_count": 5,
   "metadata": {},
   "outputs": [
    {
     "data": {
      "text/html": [
       "<div>\n",
       "<style scoped>\n",
       "    .dataframe tbody tr th:only-of-type {\n",
       "        vertical-align: middle;\n",
       "    }\n",
       "\n",
       "    .dataframe tbody tr th {\n",
       "        vertical-align: top;\n",
       "    }\n",
       "\n",
       "    .dataframe thead th {\n",
       "        text-align: right;\n",
       "    }\n",
       "</style>\n",
       "<table border=\"1\" class=\"dataframe\">\n",
       "  <thead>\n",
       "    <tr style=\"text-align: right;\">\n",
       "      <th></th>\n",
       "      <th>County</th>\n",
       "      <th>State</th>\n",
       "      <th>Year</th>\n",
       "      <th>Price</th>\n",
       "    </tr>\n",
       "  </thead>\n",
       "  <tbody>\n",
       "  </tbody>\n",
       "</table>\n",
       "</div>"
      ],
      "text/plain": [
       "Empty DataFrame\n",
       "Columns: [County, State, Year, Price]\n",
       "Index: []"
      ]
     },
     "execution_count": 5,
     "metadata": {},
     "output_type": "execute_result"
    }
   ],
   "source": [
    "# Handle missing data\n",
    "missing_df = training_df.loc[training_df['Year'].isin(['2003','2004'])]\n",
    "missing_df.head()  "
   ]
  },
  {
   "cell_type": "code",
   "execution_count": 6,
   "metadata": {},
   "outputs": [],
   "source": [
    "# plt.hist(training_df['Price'], 2004)\n",
    "# plt.show()"
   ]
  },
  {
   "cell_type": "code",
   "execution_count": 7,
   "metadata": {},
   "outputs": [
    {
     "data": {
      "text/plain": [
       "County    120\n",
       "State     120\n",
       "Year      120\n",
       "Price     120\n",
       "dtype: int64"
      ]
     },
     "execution_count": 7,
     "metadata": {},
     "output_type": "execute_result"
    }
   ],
   "source": [
    "# Backfill missing data for 2003 and 2004 from a median of 2002 and 2005 \n",
    "backfill_2002_df = training_df.loc[training_df['Year'].isin(['2002'])]\n",
    "backfill_2005_df = training_df.loc[training_df['Year'].isin(['2005'])]\n",
    "backfill_2002_df = backfill_2002_df.dropna()\n",
    "backfill_2005_df = backfill_2005_df.dropna()\n",
    "backfill_2002_df.count()\n",
    "backfill_2005_df.count()"
   ]
  },
  {
   "cell_type": "code",
   "execution_count": 8,
   "metadata": {},
   "outputs": [
    {
     "data": {
      "text/html": [
       "<div>\n",
       "<style scoped>\n",
       "    .dataframe tbody tr th:only-of-type {\n",
       "        vertical-align: middle;\n",
       "    }\n",
       "\n",
       "    .dataframe tbody tr th {\n",
       "        vertical-align: top;\n",
       "    }\n",
       "\n",
       "    .dataframe thead th {\n",
       "        text-align: right;\n",
       "    }\n",
       "</style>\n",
       "<table border=\"1\" class=\"dataframe\">\n",
       "  <thead>\n",
       "    <tr style=\"text-align: right;\">\n",
       "      <th></th>\n",
       "      <th>County</th>\n",
       "      <th>State</th>\n",
       "      <th>Year_x</th>\n",
       "      <th>Price_x</th>\n",
       "      <th>Year_y</th>\n",
       "      <th>Price_y</th>\n",
       "    </tr>\n",
       "  </thead>\n",
       "  <tbody>\n",
       "    <tr>\n",
       "      <th>0</th>\n",
       "      <td>King County</td>\n",
       "      <td>WA</td>\n",
       "      <td>2002</td>\n",
       "      <td>154.750000</td>\n",
       "      <td>2005</td>\n",
       "      <td>202.750000</td>\n",
       "    </tr>\n",
       "    <tr>\n",
       "      <th>1</th>\n",
       "      <td>Prince Georges County</td>\n",
       "      <td>MD</td>\n",
       "      <td>2002</td>\n",
       "      <td>108.583333</td>\n",
       "      <td>2005</td>\n",
       "      <td>194.166667</td>\n",
       "    </tr>\n",
       "    <tr>\n",
       "      <th>2</th>\n",
       "      <td>Baltimore County</td>\n",
       "      <td>MD</td>\n",
       "      <td>2002</td>\n",
       "      <td>99.250000</td>\n",
       "      <td>2005</td>\n",
       "      <td>163.666667</td>\n",
       "    </tr>\n",
       "    <tr>\n",
       "      <th>3</th>\n",
       "      <td>Pierce County</td>\n",
       "      <td>WA</td>\n",
       "      <td>2002</td>\n",
       "      <td>106.166667</td>\n",
       "      <td>2005</td>\n",
       "      <td>148.916667</td>\n",
       "    </tr>\n",
       "    <tr>\n",
       "      <th>4</th>\n",
       "      <td>Snohomish County</td>\n",
       "      <td>WA</td>\n",
       "      <td>2002</td>\n",
       "      <td>140.083333</td>\n",
       "      <td>2005</td>\n",
       "      <td>179.083333</td>\n",
       "    </tr>\n",
       "  </tbody>\n",
       "</table>\n",
       "</div>"
      ],
      "text/plain": [
       "                  County State  Year_x     Price_x  Year_y     Price_y\n",
       "0            King County    WA    2002  154.750000    2005  202.750000\n",
       "1  Prince Georges County    MD    2002  108.583333    2005  194.166667\n",
       "2       Baltimore County    MD    2002   99.250000    2005  163.666667\n",
       "3          Pierce County    WA    2002  106.166667    2005  148.916667\n",
       "4       Snohomish County    WA    2002  140.083333    2005  179.083333"
      ]
     },
     "execution_count": 8,
     "metadata": {},
     "output_type": "execute_result"
    }
   ],
   "source": [
    "backfill_df = backfill_2002_df.merge(backfill_2005_df, on=['County','State'], how='inner')\n",
    "backfill_df.head()"
   ]
  },
  {
   "cell_type": "code",
   "execution_count": 9,
   "metadata": {},
   "outputs": [
    {
     "data": {
      "text/html": [
       "<div>\n",
       "<style scoped>\n",
       "    .dataframe tbody tr th:only-of-type {\n",
       "        vertical-align: middle;\n",
       "    }\n",
       "\n",
       "    .dataframe tbody tr th {\n",
       "        vertical-align: top;\n",
       "    }\n",
       "\n",
       "    .dataframe thead th {\n",
       "        text-align: right;\n",
       "    }\n",
       "</style>\n",
       "<table border=\"1\" class=\"dataframe\">\n",
       "  <thead>\n",
       "    <tr style=\"text-align: right;\">\n",
       "      <th></th>\n",
       "      <th>County</th>\n",
       "      <th>State</th>\n",
       "      <th>Year_x</th>\n",
       "      <th>Price_x</th>\n",
       "      <th>Year_y</th>\n",
       "      <th>Price_y</th>\n",
       "      <th>Diff_Price</th>\n",
       "      <th>2003_Price</th>\n",
       "      <th>2004_Price</th>\n",
       "    </tr>\n",
       "  </thead>\n",
       "  <tbody>\n",
       "    <tr>\n",
       "      <th>0</th>\n",
       "      <td>King County</td>\n",
       "      <td>WA</td>\n",
       "      <td>2002</td>\n",
       "      <td>154.750000</td>\n",
       "      <td>2005</td>\n",
       "      <td>202.750000</td>\n",
       "      <td>48.000000</td>\n",
       "      <td>170.750000</td>\n",
       "      <td>186.750000</td>\n",
       "    </tr>\n",
       "    <tr>\n",
       "      <th>1</th>\n",
       "      <td>Prince Georges County</td>\n",
       "      <td>MD</td>\n",
       "      <td>2002</td>\n",
       "      <td>108.583333</td>\n",
       "      <td>2005</td>\n",
       "      <td>194.166667</td>\n",
       "      <td>85.583333</td>\n",
       "      <td>137.111111</td>\n",
       "      <td>165.638889</td>\n",
       "    </tr>\n",
       "    <tr>\n",
       "      <th>2</th>\n",
       "      <td>Baltimore County</td>\n",
       "      <td>MD</td>\n",
       "      <td>2002</td>\n",
       "      <td>99.250000</td>\n",
       "      <td>2005</td>\n",
       "      <td>163.666667</td>\n",
       "      <td>64.416667</td>\n",
       "      <td>120.722222</td>\n",
       "      <td>142.194444</td>\n",
       "    </tr>\n",
       "    <tr>\n",
       "      <th>3</th>\n",
       "      <td>Pierce County</td>\n",
       "      <td>WA</td>\n",
       "      <td>2002</td>\n",
       "      <td>106.166667</td>\n",
       "      <td>2005</td>\n",
       "      <td>148.916667</td>\n",
       "      <td>42.750000</td>\n",
       "      <td>120.416667</td>\n",
       "      <td>134.666667</td>\n",
       "    </tr>\n",
       "    <tr>\n",
       "      <th>4</th>\n",
       "      <td>Snohomish County</td>\n",
       "      <td>WA</td>\n",
       "      <td>2002</td>\n",
       "      <td>140.083333</td>\n",
       "      <td>2005</td>\n",
       "      <td>179.083333</td>\n",
       "      <td>39.000000</td>\n",
       "      <td>153.083333</td>\n",
       "      <td>166.083333</td>\n",
       "    </tr>\n",
       "  </tbody>\n",
       "</table>\n",
       "</div>"
      ],
      "text/plain": [
       "                  County State  Year_x     Price_x  Year_y     Price_y  \\\n",
       "0            King County    WA    2002  154.750000    2005  202.750000   \n",
       "1  Prince Georges County    MD    2002  108.583333    2005  194.166667   \n",
       "2       Baltimore County    MD    2002   99.250000    2005  163.666667   \n",
       "3          Pierce County    WA    2002  106.166667    2005  148.916667   \n",
       "4       Snohomish County    WA    2002  140.083333    2005  179.083333   \n",
       "\n",
       "   Diff_Price  2003_Price  2004_Price  \n",
       "0   48.000000  170.750000  186.750000  \n",
       "1   85.583333  137.111111  165.638889  \n",
       "2   64.416667  120.722222  142.194444  \n",
       "3   42.750000  120.416667  134.666667  \n",
       "4   39.000000  153.083333  166.083333  "
      ]
     },
     "execution_count": 9,
     "metadata": {},
     "output_type": "execute_result"
    }
   ],
   "source": [
    "backfill_df['Diff_Price'] = backfill_df['Price_y'] - backfill_df['Price_x']\n",
    "backfill_df['2003_Price'] = backfill_df['Diff_Price']/3 + backfill_df['Price_x']\n",
    "backfill_df['2004_Price'] = backfill_df['Price_y'] - backfill_df['Diff_Price']/3 \n",
    "backfill_df.head()"
   ]
  },
  {
   "cell_type": "code",
   "execution_count": 10,
   "metadata": {},
   "outputs": [
    {
     "name": "stderr",
     "output_type": "stream",
     "text": [
      "/anaconda3/envs/PythonData/lib/python3.6/site-packages/pandas/core/indexing.py:1494: FutureWarning: \n",
      "Passing list-likes to .loc or [] with any missing label will raise\n",
      "KeyError in the future, you can use .reindex() as an alternative.\n",
      "\n",
      "See the documentation here:\n",
      "https://pandas.pydata.org/pandas-docs/stable/indexing.html#deprecate-loc-reindex-listlike\n",
      "  return self._getitem_tuple(key)\n"
     ]
    }
   ],
   "source": [
    "backfill_2003 = backfill_df.loc[:, ['County','State','Year','2003_Price']]\n",
    "backfill_2003['Year'] = 2003\n",
    "backfill_2003 = backfill_2003.rename(columns = {'2003_Price': 'Price'})\n",
    "# backfill_2003.head()"
   ]
  },
  {
   "cell_type": "code",
   "execution_count": 11,
   "metadata": {},
   "outputs": [],
   "source": [
    "backfill_2004 = backfill_df.loc[:, ['County','State','Year','2004_Price']]\n",
    "backfill_2004['Year'] = 2004\n",
    "backfill_2004 = backfill_2004.rename(columns = {'2004_Price': 'Price'})\n",
    "# backfill_2004.head()"
   ]
  },
  {
   "cell_type": "code",
   "execution_count": 12,
   "metadata": {},
   "outputs": [
    {
     "data": {
      "text/html": [
       "<div>\n",
       "<style scoped>\n",
       "    .dataframe tbody tr th:only-of-type {\n",
       "        vertical-align: middle;\n",
       "    }\n",
       "\n",
       "    .dataframe tbody tr th {\n",
       "        vertical-align: top;\n",
       "    }\n",
       "\n",
       "    .dataframe thead th {\n",
       "        text-align: right;\n",
       "    }\n",
       "</style>\n",
       "<table border=\"1\" class=\"dataframe\">\n",
       "  <thead>\n",
       "    <tr style=\"text-align: right;\">\n",
       "      <th></th>\n",
       "      <th>County</th>\n",
       "      <th>State</th>\n",
       "      <th>Year</th>\n",
       "      <th>Price</th>\n",
       "    </tr>\n",
       "  </thead>\n",
       "  <tbody>\n",
       "    <tr>\n",
       "      <th>0</th>\n",
       "      <td>King County</td>\n",
       "      <td>WA</td>\n",
       "      <td>2000</td>\n",
       "      <td>141.166667</td>\n",
       "    </tr>\n",
       "    <tr>\n",
       "      <th>1</th>\n",
       "      <td>Fairfax County</td>\n",
       "      <td>VA</td>\n",
       "      <td>2000</td>\n",
       "      <td>134.000000</td>\n",
       "    </tr>\n",
       "    <tr>\n",
       "      <th>2</th>\n",
       "      <td>Montgomery County</td>\n",
       "      <td>MD</td>\n",
       "      <td>2000</td>\n",
       "      <td>126.916667</td>\n",
       "    </tr>\n",
       "    <tr>\n",
       "      <th>3</th>\n",
       "      <td>Prince Georges County</td>\n",
       "      <td>MD</td>\n",
       "      <td>2000</td>\n",
       "      <td>91.833333</td>\n",
       "    </tr>\n",
       "    <tr>\n",
       "      <th>4</th>\n",
       "      <td>Baltimore County</td>\n",
       "      <td>MD</td>\n",
       "      <td>2000</td>\n",
       "      <td>86.750000</td>\n",
       "    </tr>\n",
       "  </tbody>\n",
       "</table>\n",
       "</div>"
      ],
      "text/plain": [
       "                  County State  Year       Price\n",
       "0            King County    WA  2000  141.166667\n",
       "1         Fairfax County    VA  2000  134.000000\n",
       "2      Montgomery County    MD  2000  126.916667\n",
       "3  Prince Georges County    MD  2000   91.833333\n",
       "4       Baltimore County    MD  2000   86.750000"
      ]
     },
     "execution_count": 12,
     "metadata": {},
     "output_type": "execute_result"
    }
   ],
   "source": [
    "training_df = training_df.append(backfill_2003, ignore_index=True)\n",
    "training_df = training_df.append(backfill_2004, ignore_index=True)\n",
    "training_df.head()"
   ]
  },
  {
   "cell_type": "code",
   "execution_count": null,
   "metadata": {},
   "outputs": [],
   "source": [
    "print(training_df.loc[training_df['Price'].isin(['NaN'])].count())"
   ]
  },
  {
   "cell_type": "code",
   "execution_count": null,
   "metadata": {},
   "outputs": [],
   "source": [
    "training_dfdum = training_df.dropna()\n",
    "training_dfdum.head()\n",
    "training_dfdum.count()"
   ]
  },
  {
   "cell_type": "code",
   "execution_count": null,
   "metadata": {},
   "outputs": [],
   "source": [
    "print(training_dfdum.loc[training_dfdum['Price'].isin(['NaN'])])"
   ]
  },
  {
   "cell_type": "markdown",
   "metadata": {},
   "source": [
    "# Plot Training Set "
   ]
  },
  {
   "cell_type": "code",
   "execution_count": null,
   "metadata": {},
   "outputs": [],
   "source": [
    "# Plot Training Data After Handling Missig Data - YoY Price of All Counties \n",
    "plt.plot(training_dfdum['Year'], training_dfdum['Price'],'o')\n",
    "plt.title('Yearly Median Housing Price Per SqFt (Training set)')\n",
    "plt.xlabel('Year')\n",
    "plt.ylabel('Price Per SqFt ($)')\n",
    "plt.show()"
   ]
  },
  {
   "cell_type": "markdown",
   "metadata": {},
   "source": [
    "# Read and Process Test Set "
   ]
  },
  {
   "cell_type": "code",
   "execution_count": null,
   "metadata": {},
   "outputs": [],
   "source": [
    "# Read Housing Price Testing Data\n",
    "testing_df = pd.read_csv(\"MLResources/realestate_all_test.csv\")\n",
    "\n",
    "# Remove outliers - Testing Data\n",
    "testing_df = remove_outlier(testing_df,\"Price\")\n",
    "testing_df.reset_index(drop=True, inplace=True)\n",
    "\n",
    "\n",
    "# Filter data into Testing set for only matching counties in the Training set\n",
    "testing_df = testing_df.loc[testing_df['County'].isin(training_df['County'])]\n",
    "testing_df.head()\n",
    "testing_df.count()\n"
   ]
  },
  {
   "cell_type": "code",
   "execution_count": null,
   "metadata": {},
   "outputs": [],
   "source": [
    "testing_dfdum = testing_df.dropna()\n",
    "testing_dfdum.head()\n",
    "# testing_dfdum.count()"
   ]
  },
  {
   "cell_type": "markdown",
   "metadata": {},
   "source": [
    "# Plot Testing Set"
   ]
  },
  {
   "cell_type": "code",
   "execution_count": null,
   "metadata": {},
   "outputs": [],
   "source": [
    "# Plot Testing Data - YoY Price of All Counties \n",
    "plt.plot(testing_df['Year'], testing_df['Price'],'o')\n",
    "plt.title('Yearly Median Housing Price Per SqFt (Testing set)')\n",
    "plt.xlabel('Year')\n",
    "plt.ylabel('Price Per SqFt ($)')\n",
    "plt.show()"
   ]
  },
  {
   "cell_type": "markdown",
   "metadata": {},
   "source": [
    "# Shaping Training Set"
   ]
  },
  {
   "cell_type": "code",
   "execution_count": null,
   "metadata": {},
   "outputs": [],
   "source": [
    "# Encode Categorical Features - County and State\n",
    "cat_features = ['County','State']\n",
    "num_features = ['Price','Year']\n",
    "\n",
    "categories = cat_features[0:len(cat_features)]\n",
    "\n",
    "for category in categories:\n",
    "    series = training_dfdum[category]\n",
    "    dummies = pd.get_dummies(series, prefix=category)\n",
    "    training_dfdum = pd.concat([training_dfdum, dummies], axis=1)\n",
    "    \n",
    "print(training_dfdum.columns)\n",
    "training_dfdum.head()\n",
    "training_dfdum.count()\n",
    "training_dfdum.shape"
   ]
  },
  {
   "cell_type": "code",
   "execution_count": null,
   "metadata": {},
   "outputs": [],
   "source": [
    "# Feature Scaling (remove features not encoded) \n",
    "removefeats= [\"County\",\"State\",\"Price\"]\n",
    "\n",
    "# standardScalerX = StandardScaler()\n",
    "# x = standardScalerX.fit_transform(training_dfdum.drop(removefeats, axis=1))\n",
    "# x\n",
    "\n",
    "X_train = training_dfdum.drop(removefeats, axis=1)\n",
    "y_train = training_dfdum['Price']\n"
   ]
  },
  {
   "cell_type": "markdown",
   "metadata": {},
   "source": [
    "# Shaping Testing Set"
   ]
  },
  {
   "cell_type": "code",
   "execution_count": null,
   "metadata": {},
   "outputs": [],
   "source": [
    "# Encode Categorical Features - County and State\n",
    "# cat_features = ['County','State']\n",
    "# num_features = ['Price','Year']\n",
    "\n",
    "# categories = cat_features[0:len(cat_features)]\n",
    "\n",
    "for category in categories:\n",
    "    series = testing_dfdum[category]\n",
    "    dummies = pd.get_dummies(series, prefix=category)\n",
    "    testing_dfdum = pd.concat([testing_dfdum, dummies], axis=1)\n",
    "    \n",
    "print(testing_dfdum.columns)\n",
    "testing_dfdum.head()\n",
    "testing_dfdum.count()\n",
    "testing_dfdum.shape"
   ]
  },
  {
   "cell_type": "code",
   "execution_count": null,
   "metadata": {},
   "outputs": [],
   "source": [
    "# Get mismatch columns in the training set and testing set\n",
    "print(set(training_dfdum.columns) - set(testing_dfdum.columns) )\n",
    "print(set(testing_dfdum.columns) - set(training_dfdum.columns) )"
   ]
  },
  {
   "cell_type": "code",
   "execution_count": null,
   "metadata": {},
   "outputs": [],
   "source": [
    "# Get missing columns in the training test\n",
    "missing_cols = set( training_dfdum.columns ) - set( testing_dfdum.columns )\n",
    "\n",
    "# Add a missing column in test set with default value equal to 0\n",
    "for c in missing_cols:\n",
    "    testing_dfdum[c] = 0\n",
    "    \n",
    "# Ensure the order of column in the test set is in the same order than in train set\n",
    "testing_dfdum = testing_dfdum[training_dfdum.columns]\n",
    "testing_dfdum.reset_index(drop=True, inplace=True)\n",
    "testing_dfdum.head()\n",
    "\n",
    "\n",
    "# Get missing columns in the training set\n",
    "mismatch_cols = set(testing_dfdum.columns) - set(training_dfdum.columns)\n",
    "\n",
    "# Drop columns from the testing set\n",
    "for c in mismatch_cols:\n",
    "#     testing_dfdum = testing_dfdum.loc[testing_dfdum[c] == 0]\n",
    "    testing_dfdum = testing_dfdum.drop([c], axis=1).reset_index(drop=True, inplace=True)\n",
    "    \n",
    "# Ensure the order of column in the test set is in the same order as in train set\n",
    "testing_dfdum = testing_dfdum[training_dfdum.columns]\n",
    "testing_dfdum.count()\n"
   ]
  },
  {
   "cell_type": "code",
   "execution_count": null,
   "metadata": {},
   "outputs": [],
   "source": [
    "# Find orphan Prices\n",
    "testing_dforphan = testing_dfdum.loc[testing_dfdum['Price'].isin(['NaN'])]\n",
    "testing_dforphan.head()"
   ]
  },
  {
   "cell_type": "code",
   "execution_count": null,
   "metadata": {},
   "outputs": [],
   "source": [
    "# Remove features not encoded\n",
    "removefeats= [\"County\",\"State\",\"Price\"]\n",
    "\n",
    "X_test = testing_dfdum.drop(removefeats, axis=1)\n",
    "y_test = testing_dfdum['Price']\n"
   ]
  },
  {
   "cell_type": "markdown",
   "metadata": {},
   "source": [
    "# Shapes of Training and Testing Datasets"
   ]
  },
  {
   "cell_type": "code",
   "execution_count": null,
   "metadata": {},
   "outputs": [],
   "source": [
    "# Shapes - Training and Testing Datasets\n",
    "print (\"Train data: \\n\")\n",
    "print (\"Number of columns: \" + str (training_df.shape[1]))\n",
    "print (\"number of rows: \" + str (training_df.shape[0]))\n",
    "\n",
    "print('\\nTest data: \\n')\n",
    "print (\"number of columns:\" + str (testing_df.shape[1]))\n",
    "print (\"Number of columns:\" +  str (testing_df.shape[0]))"
   ]
  },
  {
   "cell_type": "markdown",
   "metadata": {},
   "source": [
    "# Model Fit and Evaluate"
   ]
  },
  {
   "cell_type": "code",
   "execution_count": null,
   "metadata": {},
   "outputs": [],
   "source": [
    "# Create & Fit Linear Regression Model \n",
    "\n",
    "regr = linear_model.LinearRegression()\n",
    "\n",
    "lr_model = regr.fit(X_train, y_train)\n"
   ]
  },
  {
   "cell_type": "code",
   "execution_count": null,
   "metadata": {},
   "outputs": [],
   "source": [
    "# Predict on Training Data\n",
    "y_train_predict = lr_model.predict(X_train)\n",
    "print(f\"True output: {y_train[0]}\")\n",
    "print(f\"Predicted output: {y_train_predict[0]}\")\n",
    "print(f\"Prediction Error: {y_train_predict[0]-y_train[0]}\")"
   ]
  },
  {
   "cell_type": "code",
   "execution_count": null,
   "metadata": {},
   "outputs": [],
   "source": [
    "print(f\"True output: {y_train[2]}\")\n",
    "print(f\"Predicted output: {y_train_predict[2]}\")\n",
    "print(f\"Prediction Error: {y_train_predict[2]-y_train[2]}\")"
   ]
  },
  {
   "cell_type": "code",
   "execution_count": null,
   "metadata": {},
   "outputs": [],
   "source": [
    "# Plot Residuals - Training Data\n",
    "plt.scatter(y_train_predict, y_train_predict - y_train)\n",
    "plt.hlines(y=0, xmin=y_train_predict.min(), xmax=y_train_predict.max())\n",
    "plt.title('Residuals (Training set)')\n",
    "plt.xlabel('Predict')\n",
    "plt.ylabel('Predict Error (Diff of Predict - Actual)')\n",
    "plt.show()"
   ]
  },
  {
   "cell_type": "code",
   "execution_count": null,
   "metadata": {},
   "outputs": [],
   "source": [
    "# # Plot Predictions of Testing Data - YoY Price of All Counties \n",
    "# plt.plot(X_train['Year'], y_train_predict, 'o')\n",
    "# plt.title('Prediction on Training Data - Yearly Median Housing Price Per SqFt')\n",
    "# plt.xlabel('Year')\n",
    "# plt.ylabel('Price Per SqFt ($)')\n",
    "# plt.show()"
   ]
  },
  {
   "cell_type": "code",
   "execution_count": null,
   "metadata": {},
   "outputs": [],
   "source": [
    "# # Score\n",
    "# score = lr_model.score(X_train, y_train)\n",
    "# print(f\"Score: {score}\")\n",
    "\n",
    "# # R2 Score\n",
    "# r2_score = r2_score(y_train, y_train_predict)\n",
    "# print(f\"R2 Score: {r2_score}\")\n",
    "\n",
    "# # Mean Square Error\n",
    "# rmse_score = mean_squared_error(y_train, y_train_predict)\n",
    "# print(f\"RMSE Score: {rmse_score}\")"
   ]
  },
  {
   "cell_type": "markdown",
   "metadata": {},
   "source": [
    "# Predict on Testing Data"
   ]
  },
  {
   "cell_type": "code",
   "execution_count": null,
   "metadata": {},
   "outputs": [],
   "source": [
    "# Predict on Testing Data\n",
    "y_test_predict = lr_model.predict(X_test)\n",
    "print(f\"True output: {y_test[0]}\\n\")\n",
    "print(f\"Predicted output: {y_test_predict[0]}\\n\")\n",
    "print(f\"Prediction Error: {y_test_predict[0]-y_test[0]}\\n\")"
   ]
  },
  {
   "cell_type": "code",
   "execution_count": null,
   "metadata": {},
   "outputs": [],
   "source": [
    "print(f\"True output: {y_test[2]}\\n\")\n",
    "print(f\"Predicted output: {y_test_predict[2]}\\n\")\n",
    "print(f\"Prediction Error: {y_test_predict[2]-y_test[2]}\\n\")"
   ]
  },
  {
   "cell_type": "code",
   "execution_count": null,
   "metadata": {},
   "outputs": [],
   "source": [
    "# Plot Residuals on Testing Data\n",
    "plt.scatter(y_test_predict, y_test_predict - y_test)\n",
    "plt.hlines(y=0, xmin=y_test_predict.min(), xmax=y_test_predict.max())\n",
    "plt.title('Residuals (Testing set)')\n",
    "plt.xlabel('Predict')\n",
    "plt.ylabel('Predict Error (Diff of Predict - Actual)')\n",
    "plt.show()"
   ]
  },
  {
   "cell_type": "code",
   "execution_count": null,
   "metadata": {},
   "outputs": [],
   "source": [
    "score = lr_model.score(X_test, y_test)\n",
    "print(f\"R2 Score: {score}\")"
   ]
  },
  {
   "cell_type": "code",
   "execution_count": null,
   "metadata": {},
   "outputs": [],
   "source": [
    "print (\"Train data:\")\n",
    "print(f\"Actual Min - Max: {y_train.min()} - {y_train.max()}\")\n",
    "print(f\"Prediction Min - Max: {y_train_predict.min()} - {y_train_predict.max()}\")\n",
    "print(\"\\n\")\n",
    "\n",
    "print (\"Test data:\")\n",
    "print(f\"Actual Min - Max: {y_test.min()} - {y_test.max()}\")\n",
    "print(f\"Prediction Min - Max: {y_test_predict.min()} - {y_test_predict.max()}\")\n",
    "print(\"\\n\")"
   ]
  },
  {
   "cell_type": "code",
   "execution_count": null,
   "metadata": {},
   "outputs": [],
   "source": [
    "# for x in y_test_predict:\n",
    "#     print (x)\n",
    "\n",
    "# print (np.where(y_test_predict > 1000))\n",
    "\n",
    "# y_test_predict[69]\n",
    "# pd.set_option('display.max_rows',1000)\n",
    "# X_test.loc[69:69,].T\n",
    "# y_test[69]"
   ]
  },
  {
   "cell_type": "code",
   "execution_count": null,
   "metadata": {},
   "outputs": [],
   "source": [
    "# testing_dfdum.reset_index(drop=True, inplace=True)\n",
    "# print(str(len(y_test_predict)) + ' : ' + str(len(y_test)))\n",
    "\n",
    "# for i in range(len(y_test_predict)):\n",
    "#     print (str(y_test_predict[i]) + ' : ' + str(y_test[i]))    "
   ]
  },
  {
   "cell_type": "markdown",
   "metadata": {},
   "source": [
    "# Compare Historical, Predicted and Actual Trends"
   ]
  },
  {
   "cell_type": "markdown",
   "metadata": {},
   "source": [
    "## Historical Trend"
   ]
  },
  {
   "cell_type": "code",
   "execution_count": null,
   "metadata": {},
   "outputs": [],
   "source": [
    "# Plot Training Data After Handling Missig Data - YoY Price of All Counties \n",
    "plt.plot(training_dfdum['Year'], training_dfdum['Price'],'o')\n",
    "plt.title('Historical Trend - Yearly Median Housing Price Per SqFt')\n",
    "plt.xlabel('Year')\n",
    "plt.ylabel('Price Per SqFt ($)')\n",
    "plt.show()"
   ]
  },
  {
   "cell_type": "code",
   "execution_count": null,
   "metadata": {},
   "outputs": [],
   "source": [
    "plt.savefig('historical_trend.png')"
   ]
  },
  {
   "cell_type": "markdown",
   "metadata": {},
   "source": [
    "## Predicted Trend"
   ]
  },
  {
   "cell_type": "code",
   "execution_count": null,
   "metadata": {},
   "outputs": [],
   "source": [
    "# Plot Predictions of Testing Data - YoY Price of All Counties \n",
    "plt.plot(X_test['Year'], y_test_predict, 'o', color='green')\n",
    "plt.title('Prediction of Yearly Median Housing Price Per SqFt')\n",
    "plt.xlabel('Year')\n",
    "plt.ylabel('Price Per SqFt ($)')\n",
    "plt.show()"
   ]
  },
  {
   "cell_type": "code",
   "execution_count": null,
   "metadata": {},
   "outputs": [],
   "source": [
    "plt.savefig('predicted_trend.png')"
   ]
  },
  {
   "cell_type": "markdown",
   "metadata": {},
   "source": [
    "## Actual Trend"
   ]
  },
  {
   "cell_type": "code",
   "execution_count": null,
   "metadata": {
    "scrolled": false
   },
   "outputs": [],
   "source": [
    "# Plot Testing Data - YoY Price of All Counties \n",
    "plt.plot(testing_df['Year'], testing_df['Price'],'o', color='orange')\n",
    "plt.title('Actual Trend -Yearly Median Housing Price Per SqFt')\n",
    "plt.xlabel('Year')\n",
    "plt.ylabel('Price Per SqFt ($)')\n",
    "plt.show()"
   ]
  },
  {
   "cell_type": "code",
   "execution_count": null,
   "metadata": {},
   "outputs": [],
   "source": [
    "plt.savefig('actual_trend.png')"
   ]
  },
  {
   "cell_type": "code",
   "execution_count": null,
   "metadata": {
    "scrolled": true
   },
   "outputs": [],
   "source": [
    "# Plot Testing Data After Processing Data - YoY Price of All Counties \n",
    "plt.plot(X_test['Year'], y_test, 'o')\n",
    "plt.title('Actual Yearly Median Housing Price Per SqFt (Testing set)')\n",
    "plt.xlabel('Year')\n",
    "plt.ylabel('Price Per SqFt ($)')\n",
    "plt.show()\n"
   ]
  },
  {
   "cell_type": "code",
   "execution_count": null,
   "metadata": {},
   "outputs": [],
   "source": [
    "plt.savefig('actual_trend_testingdata.png')"
   ]
  },
  {
   "cell_type": "code",
   "execution_count": null,
   "metadata": {},
   "outputs": [],
   "source": [
    "plt.scatter(model.predict(X_train_scaled), model.predict(X_train_scaled) - y_train_scaled, c=\"blue\", label=\"Training Data\")\n",
    "plt.scatter(model.predict(X_test_scaled), model.predict(X_test_scaled) - y_test_scaled, c=\"orange\", label=\"Testing Data\")\n",
    "plt.legend()\n",
    "plt.hlines(y=0, xmin=y_test_scaled.min(), xmax=y_test_scaled.max())\n",
    "plt.title(\"Residual Plot\")\n",
    "plt.show()"
   ]
  },
  {
   "cell_type": "markdown",
   "metadata": {},
   "source": [
    "# Save Model"
   ]
  },
  {
   "cell_type": "code",
   "execution_count": null,
   "metadata": {},
   "outputs": [],
   "source": [
    "# Save the model\n",
    "model.save(\"linear_model_trained.h5\")"
   ]
  },
  {
   "cell_type": "code",
   "execution_count": null,
   "metadata": {},
   "outputs": [],
   "source": []
  }
 ],
 "metadata": {
  "kernelspec": {
   "display_name": "Python 3",
   "language": "python",
   "name": "python3"
  },
  "language_info": {
   "codemirror_mode": {
    "name": "ipython",
    "version": 3
   },
   "file_extension": ".py",
   "mimetype": "text/x-python",
   "name": "python",
   "nbconvert_exporter": "python",
   "pygments_lexer": "ipython3",
   "version": "3.6.8"
  }
 },
 "nbformat": 4,
 "nbformat_minor": 2
}
